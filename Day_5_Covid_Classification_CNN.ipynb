{
  "nbformat": 4,
  "nbformat_minor": 0,
  "metadata": {
    "colab": {
      "provenance": [],
      "collapsed_sections": [],
      "include_colab_link": true
    },
    "kernelspec": {
      "name": "python3",
      "display_name": "Python 3"
    },
    "language_info": {
      "name": "python"
    },
    "accelerator": "GPU"
  },
  "cells": [
    {
      "cell_type": "markdown",
      "metadata": {
        "id": "view-in-github",
        "colab_type": "text"
      },
      "source": [
        "<a href=\"https://colab.research.google.com/github/vinivijayan1/Google-co-lab-pages/blob/main/Day_5_Covid_Classification_CNN.ipynb\" target=\"_parent\"><img src=\"https://colab.research.google.com/assets/colab-badge.svg\" alt=\"Open In Colab\"/></a>"
      ]
    },
    {
      "cell_type": "code",
      "metadata": {
        "colab": {
          "base_uri": "https://localhost:8080/"
        },
        "id": "GeqkXEFjjNge",
        "outputId": "e92eca58-2b70-4ce4-c2b0-023a26bed4c8"
      },
      "source": [
        "from google.colab import drive\n",
        "drive.mount('/content/drive')"
      ],
      "execution_count": null,
      "outputs": [
        {
          "output_type": "stream",
          "text": [
            "Mounted at /content/drive\n"
          ],
          "name": "stdout"
        }
      ]
    },
    {
      "cell_type": "code",
      "metadata": {
        "colab": {
          "base_uri": "https://localhost:8080/"
        },
        "id": "rlTi4q5rkg-v",
        "outputId": "a0c42c99-41e9-4d63-a798-6c842a7cd360"
      },
      "source": [
        "from zipfile import ZipFile\n",
        "file_name = \"/content/drive/My Drive/CovidDataset.zip\"\n",
        "with ZipFile(file_name,'r') as zip:\n",
        "  zip.extractall()\n",
        "  print(\"Completed\")"
      ],
      "execution_count": null,
      "outputs": [
        {
          "output_type": "stream",
          "text": [
            "Completed\n"
          ],
          "name": "stdout"
        }
      ]
    },
    {
      "cell_type": "code",
      "metadata": {
        "id": "ZqEJ9uYUluTc"
      },
      "source": [
        "from keras.layers import *\n",
        "from keras.models import * \n",
        "import keras as tf"
      ],
      "execution_count": null,
      "outputs": []
    },
    {
      "cell_type": "code",
      "metadata": {
        "id": "z90jvRu5oAh0"
      },
      "source": [
        "#Training model\n",
        "model = Sequential()   ## creating a blank model\n",
        "model.add(Conv2D(32,kernel_size=(3,3),activation='relu',input_shape=(224,224,3)))\n",
        "model.add(MaxPooling2D(pool_size=(2,2)))\n",
        "\n",
        "model.add(Conv2D(64,(3,3),activation='relu'))\n",
        "model.add(MaxPooling2D(pool_size=(2,2)))\n",
        "model.add(Dropout(0.25))    ### reduce the overfitting\n",
        " \n",
        "model.add(Conv2D(64,(3,3),activation='relu'))\n",
        "model.add(MaxPooling2D(pool_size=(2,2)))\n",
        "model.add(Dropout(0.25))\n",
        " \n",
        "model.add(Conv2D(128,(3,3),activation='relu'))\n",
        "model.add(MaxPooling2D(pool_size=(2,2)))\n",
        "model.add(Dropout(0.25))\n",
        " \n",
        "model.add(Flatten())    ### input layer\n",
        "model.add(Dense(64,activation='relu'))    ## hidden layer of ann\n",
        "model.add(Dropout(0.5))\n",
        "model.add(Dense(1,activation='sigmoid'))   ## output layer\n",
        " \n",
        "model.compile(loss='binary_crossentropy',optimizer='adam',metrics=['accuracy'])"
      ],
      "execution_count": null,
      "outputs": []
    },
    {
      "cell_type": "code",
      "metadata": {
        "id": "BuaMhX4Dp2Pt"
      },
      "source": [
        "#Moulding train images\n",
        "from tensorflow.keras.preprocessing import image\n",
        "train_datagen = image.ImageDataGenerator(rescale = 1./255, shear_range = 0.2,zoom_range = 0.2, horizontal_flip = True)\n",
        " \n",
        "test_dataset = image.ImageDataGenerator(rescale=1./255, shear_range = 0.2,zoom_range = 0.2, horizontal_flip = True)"
      ],
      "execution_count": null,
      "outputs": []
    },
    {
      "cell_type": "code",
      "metadata": {
        "colab": {
          "base_uri": "https://localhost:8080/"
        },
        "id": "ZffCfVB9rf22",
        "outputId": "a84763db-5f8c-4983-80aa-5b7d9423a7ef"
      },
      "source": [
        "#Reshaping test and validation images \n",
        "train_generator = train_datagen.flow_from_directory(\n",
        "    '/content/CovidDataset/Train',\n",
        "    target_size = (224,224),\n",
        "    batch_size = 32,\n",
        "    class_mode = 'binary')\n",
        "validation_generator = test_dataset.flow_from_directory(\n",
        "    '/content/CovidDataset/Val',\n",
        "    target_size = (224,224),\n",
        "    batch_size = 32,\n",
        "    class_mode = 'binary')"
      ],
      "execution_count": null,
      "outputs": [
        {
          "output_type": "stream",
          "text": [
            "Found 224 images belonging to 2 classes.\n",
            "Found 60 images belonging to 2 classes.\n"
          ],
          "name": "stdout"
        }
      ]
    },
    {
      "cell_type": "code",
      "metadata": {
        "colab": {
          "base_uri": "https://localhost:8080/"
        },
        "id": "D68O9rwYryNG",
        "outputId": "2151f49c-6020-4f7c-e468-85dd7c733fff"
      },
      "source": [
        "#### Train the model\n",
        "history = model.fit(\n",
        "    train_generator,\n",
        "    steps_per_epoch=7,\n",
        "    epochs = 20,\n",
        "    validation_data = validation_generator,\n",
        "    validation_steps=1\n",
        ")"
      ],
      "execution_count": null,
      "outputs": [
        {
          "output_type": "stream",
          "text": [
            "Epoch 1/20\n",
            "7/7 [==============================] - 41s 2s/step - loss: 0.7601 - accuracy: 0.4995 - val_loss: 0.6912 - val_accuracy: 0.5625\n",
            "Epoch 2/20\n",
            "7/7 [==============================] - 10s 2s/step - loss: 0.6877 - accuracy: 0.5500 - val_loss: 0.6877 - val_accuracy: 0.8438\n",
            "Epoch 3/20\n",
            "7/7 [==============================] - 10s 2s/step - loss: 0.6819 - accuracy: 0.5339 - val_loss: 0.6642 - val_accuracy: 0.9688\n",
            "Epoch 4/20\n",
            "7/7 [==============================] - 10s 2s/step - loss: 0.6428 - accuracy: 0.6092 - val_loss: 0.5601 - val_accuracy: 0.7500\n",
            "Epoch 5/20\n",
            "7/7 [==============================] - 11s 2s/step - loss: 0.4501 - accuracy: 0.8140 - val_loss: 0.4289 - val_accuracy: 0.8125\n",
            "Epoch 6/20\n",
            "7/7 [==============================] - 10s 2s/step - loss: 0.4001 - accuracy: 0.7934 - val_loss: 0.2103 - val_accuracy: 0.9688\n",
            "Epoch 7/20\n",
            "7/7 [==============================] - 10s 2s/step - loss: 0.2542 - accuracy: 0.9126 - val_loss: 0.1062 - val_accuracy: 0.9688\n",
            "Epoch 8/20\n",
            "7/7 [==============================] - 10s 2s/step - loss: 0.1871 - accuracy: 0.9192 - val_loss: 0.0618 - val_accuracy: 1.0000\n",
            "Epoch 9/20\n",
            "7/7 [==============================] - 10s 2s/step - loss: 0.1620 - accuracy: 0.9305 - val_loss: 0.0881 - val_accuracy: 0.9688\n",
            "Epoch 10/20\n",
            "7/7 [==============================] - 11s 2s/step - loss: 0.2150 - accuracy: 0.9212 - val_loss: 0.1750 - val_accuracy: 0.9062\n",
            "Epoch 11/20\n",
            "7/7 [==============================] - 10s 2s/step - loss: 0.1793 - accuracy: 0.9384 - val_loss: 0.0910 - val_accuracy: 1.0000\n",
            "Epoch 12/20\n",
            "7/7 [==============================] - 10s 2s/step - loss: 0.1751 - accuracy: 0.9381 - val_loss: 0.0407 - val_accuracy: 1.0000\n",
            "Epoch 13/20\n",
            "7/7 [==============================] - 10s 2s/step - loss: 0.1105 - accuracy: 0.9604 - val_loss: 0.0263 - val_accuracy: 1.0000\n",
            "Epoch 14/20\n",
            "7/7 [==============================] - 10s 2s/step - loss: 0.1002 - accuracy: 0.9781 - val_loss: 0.0820 - val_accuracy: 0.9688\n",
            "Epoch 15/20\n",
            "7/7 [==============================] - 10s 1s/step - loss: 0.0915 - accuracy: 0.9646 - val_loss: 0.0557 - val_accuracy: 1.0000\n",
            "Epoch 16/20\n",
            "7/7 [==============================] - 10s 2s/step - loss: 0.0730 - accuracy: 0.9724 - val_loss: 0.0140 - val_accuracy: 1.0000\n",
            "Epoch 17/20\n",
            "7/7 [==============================] - 10s 2s/step - loss: 0.1171 - accuracy: 0.9444 - val_loss: 0.0333 - val_accuracy: 1.0000\n",
            "Epoch 18/20\n",
            "7/7 [==============================] - 10s 2s/step - loss: 0.1579 - accuracy: 0.9600 - val_loss: 0.0880 - val_accuracy: 0.9688\n",
            "Epoch 19/20\n",
            "7/7 [==============================] - 10s 2s/step - loss: 0.0807 - accuracy: 0.9827 - val_loss: 0.0612 - val_accuracy: 0.9688\n",
            "Epoch 20/20\n",
            "7/7 [==============================] - 10s 1s/step - loss: 0.0739 - accuracy: 0.9592 - val_loss: 0.0122 - val_accuracy: 1.0000\n"
          ],
          "name": "stdout"
        }
      ]
    },
    {
      "cell_type": "code",
      "metadata": {
        "colab": {
          "base_uri": "https://localhost:8080/"
        },
        "id": "GqC26kncsp0e",
        "outputId": "d720b776-ba48-4fa0-dba1-5e3df4ef072f"
      },
      "source": [
        "from tensorflow.keras.preprocessing import image\n",
        "import numpy as np\n",
        "img = image.load_img('/content/xray.jpeg',target_size=(224,224))\n",
        "img = image.img_to_array(img)\n",
        "img = np.expand_dims(img,axis=0)\n",
        "ypred = model.predict(img)\n",
        "if ypred[0][0] == 1:\n",
        "  print(\"Covid Negative\")\n",
        "else:\n",
        "  print(\"Covid Positive\")"
      ],
      "execution_count": null,
      "outputs": [
        {
          "output_type": "stream",
          "text": [
            "Covid Positive\n"
          ],
          "name": "stdout"
        }
      ]
    },
    {
      "cell_type": "code",
      "metadata": {
        "colab": {
          "base_uri": "https://localhost:8080/"
        },
        "id": "j3P-CaWMxv7y",
        "outputId": "4b2eaab2-a5c4-43b2-a134-66ac6849340a"
      },
      "source": [
        "ypred[0][0]"
      ],
      "execution_count": null,
      "outputs": [
        {
          "output_type": "execute_result",
          "data": {
            "text/plain": [
              "0.0"
            ]
          },
          "metadata": {
            "tags": []
          },
          "execution_count": 19
        }
      ]
    },
    {
      "cell_type": "code",
      "metadata": {
        "colab": {
          "base_uri": "https://localhost:8080/",
          "height": 269
        },
        "id": "VF2NfdOUyeBM",
        "outputId": "88ff0519-2cda-4c67-d96b-84b534ee8eca"
      },
      "source": [
        "import cv2\n",
        "import matplotlib.pyplot as plt\n",
        "img = cv2.imread(\"/content/xray.jpeg\")\n",
        "cv2.imwrite(\"myimage.jpg\",img)\n",
        "plt.imshow(img)\n",
        "plt.show()"
      ],
      "execution_count": null,
      "outputs": [
        {
          "output_type": "display_data",
          "data": {
            "image/png": "[encoded data removed]",
            "text/plain": [
              "<Figure size 432x288 with 1 Axes>"
            ]
          },
          "metadata": {
            "tags": [],
            "needs_background": "light"
          }
        }
      ]
    },
    {
      "cell_type": "code",
      "metadata": {
        "id": "v31c9CdH01qf"
      },
      "source": [
        "model.save(\"covid.h5\")"
      ],
      "execution_count": null,
      "outputs": []
    },
    {
      "cell_type": "code",
      "metadata": {
        "id": "X9jMitCl3KmO"
      },
      "source": [
        "import keras as tf\n",
        "mymodel = tf.models.load_model(\"/content/covid.h5\")"
      ],
      "execution_count": null,
      "outputs": []
    },
    {
      "cell_type": "code",
      "metadata": {
        "id": "lSA_-ftU6oxr",
        "outputId": "c9ca8509-2624-4ab2-a426-0d8565116916",
        "colab": {
          "base_uri": "https://localhost:8080/"
        }
      },
      "source": [
        "from tensorflow.keras.preprocessing import image\n",
        "import numpy as np\n",
        "img = image.load_img('/content/xray.jpeg',target_size=(224,224))\n",
        "img = image.img_to_array(img)\n",
        "img = np.expand_dims(img,axis=0)\n",
        "ypred = mymodel.predict(img)\n",
        "if ypred[0][0] == 1:\n",
        "  print(\"Covid Negative\")\n",
        "else:\n",
        "  print(\"Covid Positive\")"
      ],
      "execution_count": null,
      "outputs": [
        {
          "output_type": "stream",
          "text": [
            "Covid Positive\n"
          ],
          "name": "stdout"
        }
      ]
    },
    {
      "cell_type": "code",
      "metadata": {
        "id": "VnafeP966rtS"
      },
      "source": [],
      "execution_count": null,
      "outputs": []
    }
  ]
}