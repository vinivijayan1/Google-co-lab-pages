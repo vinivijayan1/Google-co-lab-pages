{
  "nbformat": 4,
  "nbformat_minor": 0,
  "metadata": {
    "colab": {
      "provenance": [],
      "collapsed_sections": [],
      "authorship_tag": "ABX9TyOkFWzu8vlkPB50RdU8uX3S",
      "include_colab_link": true
    },
    "kernelspec": {
      "name": "python3",
      "display_name": "Python 3"
    },
    "language_info": {
      "name": "python"
    },
    "accelerator": "GPU"
  },
  "cells": [
    {
      "cell_type": "markdown",
      "metadata": {
        "id": "view-in-github",
        "colab_type": "text"
      },
      "source": [
        "<a href=\"https://colab.research.google.com/github/vinivijayan1/Google-co-lab-pages/blob/main/covid_project.ipynb\" target=\"_parent\"><img src=\"https://colab.research.google.com/assets/colab-badge.svg\" alt=\"Open In Colab\"/></a>"
      ]
    },
    {
      "cell_type": "code",
      "metadata": {
        "colab": {
          "base_uri": "https://localhost:8080/"
        },
        "id": "ZpBZ-nGeleqR",
        "outputId": "655a496b-1d34-41bf-df6b-67f223dcc2ce"
      },
      "source": [
        "from google.colab import drive\n",
        "drive.mount('/content/drive')\n"
      ],
      "execution_count": null,
      "outputs": [
        {
          "output_type": "stream",
          "text": [
            "Mounted at /content/drive\n"
          ],
          "name": "stdout"
        }
      ]
    },
    {
      "cell_type": "code",
      "metadata": {
        "colab": {
          "base_uri": "https://localhost:8080/"
        },
        "id": "FWuCHCkJlyBP",
        "outputId": "68ef12dc-8e3f-4118-89e3-4832322ddffd"
      },
      "source": [
        "from zipfile import ZipFile\n",
        "file_name = \"/content/drive/My Drive/CovidDataset.zip\"\n",
        "with ZipFile(file_name,'r') as zip:\n",
        "  zip.extractall()\n",
        "  print(\"Completed\")"
      ],
      "execution_count": null,
      "outputs": [
        {
          "output_type": "stream",
          "text": [
            "Completed\n"
          ],
          "name": "stdout"
        }
      ]
    },
    {
      "cell_type": "code",
      "metadata": {
        "id": "tUYscVgMmGnz"
      },
      "source": [
        "from keras.layers import *\n",
        "from keras.models import * \n",
        "import keras as tf"
      ],
      "execution_count": null,
      "outputs": []
    },
    {
      "cell_type": "code",
      "metadata": {
        "id": "lHjtPmZaqv_L"
      },
      "source": [
        "#Training model\n",
        "model = Sequential()   ## creating a blank model\n",
        "model.add(Conv2D(32,kernel_size=(3,3),activation='relu',input_shape=(224,224,3)))\n",
        "model.add(MaxPooling2D(pool_size=(2,2)))\n",
        "\n",
        "model.add(Conv2D(64,(3,3),activation='relu'))\n",
        "model.add(MaxPooling2D(pool_size=(2,2)))\n",
        "model.add(Dropout(0.25))    ### reduce the overfitting\n",
        " \n",
        "model.add(Conv2D(64,(3,3),activation='relu'))\n",
        "model.add(MaxPooling2D(pool_size=(2,2)))\n",
        "model.add(Dropout(0.25))\n",
        " \n",
        "model.add(Conv2D(128,(3,3),activation='relu'))\n",
        "model.add(MaxPooling2D(pool_size=(2,2)))\n",
        "model.add(Dropout(0.25))\n",
        " \n",
        "model.add(Flatten())    ### input layer\n",
        "model.add(Dense(64,activation='relu'))    ## hidden layer of ann\n",
        "model.add(Dropout(0.5))\n",
        "model.add(Dense(1,activation='sigmoid'))   ## output layer\n",
        " \n",
        "model.compile(loss='binary_crossentropy',optimizer='adam',metrics=['accuracy'])\n"
      ],
      "execution_count": null,
      "outputs": []
    },
    {
      "cell_type": "code",
      "metadata": {
        "id": "OWG3Q-j9qz1W"
      },
      "source": [
        "#Moulding train images\n",
        "from tensorflow.keras.preprocessing import image\n",
        "train_datagen = image.ImageDataGenerator(rescale = 1./255, shear_range = 0.2,zoom_range = 0.2, horizontal_flip = True)\n",
        " \n",
        "test_dataset = image.ImageDataGenerator(rescale=1./255, shear_range = 0.2,zoom_range = 0.2, horizontal_flip = True)"
      ],
      "execution_count": null,
      "outputs": []
    },
    {
      "cell_type": "code",
      "metadata": {
        "colab": {
          "base_uri": "https://localhost:8080/"
        },
        "id": "Lj9JmJyhtIP9",
        "outputId": "971b0689-4ab9-4c52-e0b1-45a2c6340f87"
      },
      "source": [
        "#Reshaping test and validation images \n",
        "train_generator = train_datagen.flow_from_directory(\n",
        "    '/content/CovidDataset/Train',\n",
        "    target_size = (224,224),\n",
        "    batch_size = 32,\n",
        "    class_mode = 'binary')\n",
        "validation_generator = test_dataset.flow_from_directory(\n",
        "    '/content/CovidDataset/Val',\n",
        "    target_size = (224,224),\n",
        "    batch_size = 32,\n",
        "    class_mode = 'binary')"
      ],
      "execution_count": null,
      "outputs": [
        {
          "output_type": "stream",
          "text": [
            "Found 224 images belonging to 2 classes.\n",
            "Found 60 images belonging to 2 classes.\n"
          ],
          "name": "stdout"
        }
      ]
    },
    {
      "cell_type": "code",
      "metadata": {
        "colab": {
          "base_uri": "https://localhost:8080/"
        },
        "id": "IPXaB7KntM0J",
        "outputId": "675e7361-c5f3-496a-f2f3-df754e9f10a0"
      },
      "source": [
        "#### Train the model\n",
        "history = model.fit(\n",
        "    train_generator,\n",
        "    steps_per_epoch=7,\n",
        "    epochs = 20,\n",
        "    validation_data = validation_generator,\n",
        "    validation_steps=1\n",
        ")"
      ],
      "execution_count": null,
      "outputs": [
        {
          "output_type": "stream",
          "text": [
            "Epoch 1/20\n",
            "7/7 [==============================] - 39s 1s/step - loss: 0.7041 - accuracy: 0.5165 - val_loss: 0.6863 - val_accuracy: 0.5000\n",
            "Epoch 2/20\n",
            "7/7 [==============================] - 9s 1s/step - loss: 0.6528 - accuracy: 0.5920 - val_loss: 0.5891 - val_accuracy: 0.8125\n",
            "Epoch 3/20\n",
            "7/7 [==============================] - 9s 1s/step - loss: 0.4938 - accuracy: 0.7816 - val_loss: 0.4744 - val_accuracy: 0.8438\n",
            "Epoch 4/20\n",
            "7/7 [==============================] - 9s 1s/step - loss: 0.3051 - accuracy: 0.8712 - val_loss: 0.2464 - val_accuracy: 0.9375\n",
            "Epoch 5/20\n",
            "7/7 [==============================] - 9s 1s/step - loss: 0.2794 - accuracy: 0.8991 - val_loss: 0.2280 - val_accuracy: 0.9062\n",
            "Epoch 6/20\n",
            "7/7 [==============================] - 9s 1s/step - loss: 0.3662 - accuracy: 0.8844 - val_loss: 0.3386 - val_accuracy: 0.9375\n",
            "Epoch 7/20\n",
            "7/7 [==============================] - 9s 1s/step - loss: 0.2373 - accuracy: 0.9136 - val_loss: 0.1495 - val_accuracy: 1.0000\n",
            "Epoch 8/20\n",
            "7/7 [==============================] - 9s 1s/step - loss: 0.1100 - accuracy: 0.9687 - val_loss: 0.1590 - val_accuracy: 0.9375\n",
            "Epoch 9/20\n",
            "7/7 [==============================] - 9s 1s/step - loss: 0.1780 - accuracy: 0.9527 - val_loss: 0.1597 - val_accuracy: 0.9375\n",
            "Epoch 10/20\n",
            "7/7 [==============================] - 9s 1s/step - loss: 0.1207 - accuracy: 0.9576 - val_loss: 0.1439 - val_accuracy: 0.9688\n",
            "Epoch 11/20\n",
            "7/7 [==============================] - 9s 1s/step - loss: 0.1170 - accuracy: 0.9500 - val_loss: 0.0211 - val_accuracy: 1.0000\n",
            "Epoch 12/20\n",
            "7/7 [==============================] - 9s 1s/step - loss: 0.0891 - accuracy: 0.9583 - val_loss: 0.0344 - val_accuracy: 1.0000\n",
            "Epoch 13/20\n",
            "7/7 [==============================] - 9s 1s/step - loss: 0.0713 - accuracy: 0.9736 - val_loss: 0.0920 - val_accuracy: 0.9688\n",
            "Epoch 14/20\n",
            "7/7 [==============================] - 9s 1s/step - loss: 0.0708 - accuracy: 0.9678 - val_loss: 0.1488 - val_accuracy: 0.9375\n",
            "Epoch 15/20\n",
            "7/7 [==============================] - 9s 1s/step - loss: 0.0880 - accuracy: 0.9688 - val_loss: 0.1030 - val_accuracy: 0.9688\n",
            "Epoch 16/20\n",
            "7/7 [==============================] - 9s 1s/step - loss: 0.0608 - accuracy: 0.9756 - val_loss: 0.1439 - val_accuracy: 0.9375\n",
            "Epoch 17/20\n",
            "7/7 [==============================] - 9s 1s/step - loss: 0.1049 - accuracy: 0.9682 - val_loss: 0.0949 - val_accuracy: 1.0000\n",
            "Epoch 18/20\n",
            "7/7 [==============================] - 9s 1s/step - loss: 0.1188 - accuracy: 0.9691 - val_loss: 0.0816 - val_accuracy: 1.0000\n",
            "Epoch 19/20\n",
            "7/7 [==============================] - 9s 1s/step - loss: 0.0738 - accuracy: 0.9849 - val_loss: 0.0366 - val_accuracy: 1.0000\n",
            "Epoch 20/20\n",
            "7/7 [==============================] - 9s 1s/step - loss: 0.1001 - accuracy: 0.9701 - val_loss: 0.1242 - val_accuracy: 0.9688\n"
          ],
          "name": "stdout"
        }
      ]
    },
    {
      "cell_type": "code",
      "metadata": {
        "colab": {
          "base_uri": "https://localhost:8080/"
        },
        "id": "kpoDnOzmtRBu",
        "outputId": "6c1c6d8a-503d-444b-f64a-14f187867833"
      },
      "source": [
        "from tensorflow.keras.preprocessing import image\n",
        "import numpy as np\n",
        "img = image.load_img('/content/x-ray-COVID-19-2_1800000007267893.jpg',target_size=(224,224))\n",
        "img = image.img_to_array(img)\n",
        "img = np.expand_dims(img,axis=0)\n",
        "ypred = model.predict(img)\n",
        "if ypred[0][0] == 1:\n",
        "  print(\"Covid Negative\")\n",
        "else:\n",
        "  print(\"Covid Positive\")"
      ],
      "execution_count": null,
      "outputs": [
        {
          "output_type": "stream",
          "text": [
            "Covid Negative\n"
          ],
          "name": "stdout"
        }
      ]
    }
  ]
}